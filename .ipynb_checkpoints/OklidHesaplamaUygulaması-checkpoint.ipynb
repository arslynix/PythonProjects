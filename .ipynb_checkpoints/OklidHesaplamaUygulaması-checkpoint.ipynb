{
 "cells": [
  {
   "cell_type": "code",
   "execution_count": 14,
   "id": "87d019cc-50fa-4c29-8104-bc2cb935ee8a",
   "metadata": {},
   "outputs": [
    {
     "name": "stdout",
     "output_type": "stream",
     "text": [
      "Mesafeler:  [5.0, 8.48528137423857, 6.082762530298219, 3.605551275463989, 2.8284271247461903, 5.0]\n",
      "En küçük mesafe: 2.8284271247461903\n"
     ]
    }
   ],
   "source": [
    "points = [(1, 2), (4, 6), (7, 8), (2, 8)]\n",
    "\n",
    "def euclideanDistance(point1, point2):\n",
    "    x1, y1 = point1\n",
    "    x2, y2 = point2\n",
    "    distance = ((x2-x1)**2 + (y2-y1)**2)**0.5\n",
    "    return distance\n",
    "\n",
    "distances = []\n",
    "for i in range(len(points)):\n",
    "    for j in range(i+1, len(points)):\n",
    "        distance = euclideanDistance(points[i], points[j])\n",
    "        distances.append(distance)\n",
    "        \n",
    "min_distance = min(distances)\n",
    "print(\"Mesafeler: \", distances)\n",
    "print(\"En küçük mesafe:\", min_distance)"
   ]
  },
  {
   "cell_type": "code",
   "execution_count": null,
   "id": "5902e70d-c23c-4456-81ed-c94af8aa151e",
   "metadata": {},
   "outputs": [],
   "source": []
  },
  {
   "cell_type": "code",
   "execution_count": null,
   "id": "1d94cf33-57db-4591-ac3f-7139c011edf2",
   "metadata": {},
   "outputs": [],
   "source": []
  }
 ],
 "metadata": {
  "kernelspec": {
   "display_name": "Python 3 (ipykernel)",
   "language": "python",
   "name": "python3"
  },
  "language_info": {
   "codemirror_mode": {
    "name": "ipython",
    "version": 3
   },
   "file_extension": ".py",
   "mimetype": "text/x-python",
   "name": "python",
   "nbconvert_exporter": "python",
   "pygments_lexer": "ipython3",
   "version": "3.13.1"
  }
 },
 "nbformat": 4,
 "nbformat_minor": 5
}
